{
 "cells": [
  {
   "cell_type": "code",
   "execution_count": null,
   "id": "2245373e",
   "metadata": {},
   "outputs": [],
   "source": [
    "# Description: This program uses an artificial recurrent neural network called Long Short Term Memory (LSTM)\n",
    "#              to predict the closing stock price of a corporation (Apple Inc.) using the past 60 day stock price."
   ]
  },
  {
   "cell_type": "code",
   "execution_count": null,
   "id": "2082f791",
   "metadata": {},
   "outputs": [],
   "source": [
    "# Install the libraries\n",
    "!pip install numpy\n",
    "!pip install pandas-datareader\n",
    "!pip install yfinance\n",
    "!pip install scikit-learn\n",
    "!pip install keras\n",
    "!pip install tensorflow\n",
    "!pip install matplotlib\n",
    "!pip install datetime"
   ]
  },
  {
   "cell_type": "code",
   "execution_count": null,
   "id": "57df09b4",
   "metadata": {},
   "outputs": [],
   "source": [
    "# Import the libraries\n",
    "import tensorflow.compat.v1 as tf                # A library which is used for machine learning models.\n",
    "tf.disable_v2_behavior()                         # Disables TensorFlow version 2 behavior and enables version 1.\n",
    "tf.compat.v1.disable_eager_execution()           # Disables the TensorFlow eager execution mode.\n",
    "import numpy as np                               # A library for numerical computing in Python.\n",
    "from pandas_datareader import data as pdr        # Alias for the pandas_datareader.data module.\n",
    "import yfinance as yfin                          # A library for downloading financial data from Yahoo Finance.\n",
    "from sklearn.preprocessing import MinMaxScaler   # A library for scaling numerical data.\n",
    "from keras.models import Sequential              # A library for building neural network models.\n",
    "from keras.layers import Dense, LSTM, Dropout    # Classes for defining layers in a neural network.\n",
    "import matplotlib.pyplot as plt                  # A library for creating data visualizations in Python."
   ]
  },
  {
   "cell_type": "code",
   "execution_count": null,
   "id": "1d3331c6",
   "metadata": {},
   "outputs": [],
   "source": [
    "# Get the data using the yfinance library and the pandas-datareader API\n",
    "import datetime \n",
    "yfin.pdr_override()\n",
    "df = pdr.get_data_yahoo('AAPL', start='2019-01-01', end=datetime.date.today())\n",
    "\n",
    "# Show the data\n",
    "df"
   ]
  },
  {
   "cell_type": "code",
   "execution_count": null,
   "id": "72e2cae2",
   "metadata": {},
   "outputs": [],
   "source": [
    "# Plot the closing price history\n",
    "df['Close'].plot(figsize=(16,8), linewidth=2)\n",
    "plt.title('Closing Price History')\n",
    "plt.xlabel('Date', fontsize=18)\n",
    "plt.ylabel('Close Price USD ($)', fontsize=18)\n",
    "plt.show"
   ]
  },
  {
   "cell_type": "code",
   "execution_count": null,
   "id": "ad5813ad",
   "metadata": {},
   "outputs": [],
   "source": [
    "# Create a new numpy array with only the 'Close' column\n",
    "dataset = df[['Close']].values\n",
    "\n",
    "# Calculate the number of rows to use for training\n",
    "training_data_len = int(len(dataset) * 0.8)\n",
    "\n",
    "training_data_len"
   ]
  },
  {
   "cell_type": "code",
   "execution_count": null,
   "id": "6f8e895e",
   "metadata": {},
   "outputs": [],
   "source": [
    "# Scale the data\n",
    "scaler = MinMaxScaler(feature_range=(0,1))\n",
    "scaled_data = scaler.fit_transform(dataset)\n",
    "\n",
    "scaled_data"
   ]
  },
  {
   "cell_type": "code",
   "execution_count": null,
   "id": "01a4856e",
   "metadata": {},
   "outputs": [],
   "source": [
    "# Create the training dataset\n",
    "\n",
    "# Create the scaled training dataset\n",
    "train_data=scaled_data[0:training_data_len, :]\n",
    "\n",
    "# Split the data into x_train and y_train datasets\n",
    "x_train = [] # contain the input features for the model\n",
    "y_train = [] # contain the target values\n",
    "\n",
    "# Loop through the training data, creating x_train and y_train datasets\n",
    "for i in range(60, len(train_data)):\n",
    "    x_train.append(train_data[i-60:i, 0])  # Append the past 60 values to the x_train list\n",
    "    y_train.append(train_data[i, 0])       # Append the next value to the y_train list\n",
    "    \n",
    "# Convert the x_train and y_train to numpy arrays\n",
    "x_train = np.array(x_train)\n",
    "y_train = np.array(y_train)\n",
    "\n",
    "# Reshape the data to 3 dimensions because the LSTM model expects a 3D input shape\n",
    "x_train = np.reshape(x_train, (x_train.shape[0], x_train.shape[1], 1))"
   ]
  },
  {
   "cell_type": "code",
   "execution_count": null,
   "id": "f7291eba",
   "metadata": {},
   "outputs": [],
   "source": [
    "# Build the LSTM model\n",
    "model = Sequential([\n",
    "    LSTM(50, return_sequences=True, input_shape=(x_train.shape[1], 1)),\n",
    "    Dropout(0.2),\n",
    "    LSTM(50, return_sequences=True),\n",
    "    Dropout(0.2),\n",
    "    LSTM(50, return_sequences=True),\n",
    "    Dropout(0.2),\n",
    "    LSTM(50),\n",
    "    Dropout(0.2),\n",
    "    Dense(1)\n",
    "])\n",
    "\n",
    "# Compile the model with an optimizer and a loss function\n",
    "model.compile(optimizer='adam', loss='mean_squared_error')\n",
    "\n",
    "# Train the model with the training data and target values\n",
    "model.fit(x_train, y_train, epochs=100, batch_size=64)"
   ]
  },
  {
   "cell_type": "code",
   "execution_count": null,
   "id": "6706a3cf",
   "metadata": {},
   "outputs": [],
   "source": [
    "# Create the testing dataset\n",
    "\n",
    "# Create a new array containing scaled values\n",
    "test_data = scaled_data[training_data_len - 60:, :]\n",
    "\n",
    "# Create the datasets x_test and y_test\n",
    "x_test = np.array([test_data[i-60:i, 0] for i in range(60, len(test_data))]) # will contain the input features for the model\n",
    "y_test = dataset[training_data_len:, :] # will contain the actual stock prices for the testing data\n",
    "\n",
    "# Convert the data to a numpy array to use it in the LSTM model\n",
    "x_test = np.array(x_test)\n",
    "\n",
    "# Reshape the data\n",
    "x_test = np.reshape(x_test, (x_test.shape[0], x_test.shape[1], 1))"
   ]
  },
  {
   "cell_type": "code",
   "execution_count": null,
   "id": "d8bc5e46",
   "metadata": {},
   "outputs": [],
   "source": [
    "# Predict the stock prices using the trained LSTM model on the testing data\n",
    "predictions = scaler.inverse_transform(model.predict(x_test))"
   ]
  },
  {
   "cell_type": "code",
   "execution_count": null,
   "id": "4f4f3eb5",
   "metadata": {},
   "outputs": [],
   "source": [
    "# Visualize the predicted values alongside the actual values\n",
    "\n",
    "# Get the training and validation datasets\n",
    "train = df[['Close']].iloc[:training_data_len]\n",
    "valid = df[['Close']].iloc[training_data_len:]\n",
    "\n",
    "# Add predicted values as a new column in the validation dataset\n",
    "valid['Predictions'] = predictions\n",
    "\n",
    "# Show the actual and predicted values\n",
    "print(valid)\n",
    "\n",
    "# Show the average error between the actual values and the predictions\n",
    "avg_error = round(np.mean(np.abs(valid.iloc[:,0] - valid.iloc[:,1])), 2)\n",
    "print(f\"\\nAverage error: {avg_error}%\")"
   ]
  },
  {
   "cell_type": "code",
   "execution_count": null,
   "id": "b34cde77",
   "metadata": {},
   "outputs": [],
   "source": [
    "# Plot the training and validation datasets, as well as the predicted values\n",
    "plt.figure(figsize=(16,8))\n",
    "plt.title('Model', fontsize=20)\n",
    "plt.xlabel('Date', fontsize=18)\n",
    "plt.ylabel('Close Price USD ($)', fontsize=18)\n",
    "plt.plot(train['Close'], linewidth=2)\n",
    "plt.plot(valid['Close'], linewidth=2)\n",
    "plt.plot(valid['Predictions'], linewidth=2)\n",
    "plt.legend(['Training values', 'Actual values', 'Predictions'], fontsize=14, loc='lower right')\n",
    "plt.grid(True)\n",
    "plt.show"
   ]
  },
  {
   "cell_type": "code",
   "execution_count": null,
   "id": "4e4205d4",
   "metadata": {},
   "outputs": [],
   "source": [
    "# Select the last 60 closing prices from the 'Close' column and reshape the array to have a single feature\n",
    "last_60_days = df['Close'][-60:].values.reshape(-1,1)\n",
    "\n",
    "# Scale the data using the same scaler used on the training and testing data\n",
    "last_60_days_scaled = scaler.transform(last_60_days)\n",
    "\n",
    "# Predict the scaled price for the next day using the LSTM model\n",
    "predicted_price_scaled_tomorrow = model.predict(np.array([last_60_days_scaled]))\n",
    "\n",
    "# Reverse the scaling to get the predicted price in dollars.\n",
    "predicted_price_tomorrow = scaler.inverse_transform(predicted_price_scaled_tomorrow)\n",
    "\n",
    "# Print the predicted price for the next day and next week\n",
    "tomorrow = datetime.date.today() + datetime.timedelta(days=1)\n",
    "print(f\"The predicted closing price for tomorrow ({tomorrow}) is: {round(float(predicted_price_tomorrow), 2)} $\")"
   ]
  }
 ],
 "metadata": {
  "kernelspec": {
   "display_name": "Python 3 (ipykernel)",
   "language": "python",
   "name": "python3"
  },
  "language_info": {
   "codemirror_mode": {
    "name": "ipython",
    "version": 3
   },
   "file_extension": ".py",
   "mimetype": "text/x-python",
   "name": "python",
   "nbconvert_exporter": "python",
   "pygments_lexer": "ipython3",
   "version": "3.9.13"
  }
 },
 "nbformat": 4,
 "nbformat_minor": 5
}
